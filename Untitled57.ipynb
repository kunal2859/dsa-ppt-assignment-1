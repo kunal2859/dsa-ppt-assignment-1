{
 "cells": [
  {
   "cell_type": "code",
   "execution_count": 11,
   "id": "9360cf96",
   "metadata": {},
   "outputs": [
    {
     "name": "stdout",
     "output_type": "stream",
     "text": [
      "[3, 2]\n"
     ]
    }
   ],
   "source": [
    "def twoSum(nums, target):\n",
    "    hashmap={}\n",
    "    for i in range(len(nums)):\n",
    "        a=target-nums[i]\n",
    "        if a in hashmap:\n",
    "            return [i,hashmap[a]]\n",
    "        hashmap[nums[i]]=i\n",
    "\n",
    "nums=[2,7,11,15]\n",
    "target=26\n",
    "print(twoSum(nums,target))"
   ]
  },
  {
   "cell_type": "code",
   "execution_count": 13,
   "id": "5741e45f",
   "metadata": {},
   "outputs": [
    {
     "name": "stdout",
     "output_type": "stream",
     "text": [
      "5\n"
     ]
    }
   ],
   "source": [
    "def duplicate(nums,val):\n",
    "    l=[]\n",
    "    for i in range(len(nums)):\n",
    "        if nums[i]!=val:\n",
    "            l.append(nums[i])\n",
    "    return len(l)\n",
    "\n",
    "nums=[0,1,2,2,3,0,4,2]\n",
    "val=2\n",
    "print(duplicate(nums,val))"
   ]
  },
  {
   "cell_type": "code",
   "execution_count": 28,
   "id": "d82da9c1",
   "metadata": {},
   "outputs": [
    {
     "name": "stdout",
     "output_type": "stream",
     "text": [
      "2\n"
     ]
    }
   ],
   "source": [
    "def binarySearch(nums,target):\n",
    "    i=0\n",
    "    j=len(nums)-1\n",
    "    while i<=j:\n",
    "        mid=i+(j-i)//2\n",
    "        if target>nums[mid]:\n",
    "            i=mid+1\n",
    "        elif target<nums[mid]:\n",
    "            j=mid-1\n",
    "        else:\n",
    "            return mid\n",
    "    return i\n",
    "\n",
    "nums=[1,3,5,6]\n",
    "target=5\n",
    "print(binarySearch(nums,target))"
   ]
  },
  {
   "cell_type": "code",
   "execution_count": 30,
   "id": "477721c8",
   "metadata": {},
   "outputs": [
    {
     "data": {
      "text/plain": [
       "[1, 0]"
      ]
     },
     "execution_count": 30,
     "metadata": {},
     "output_type": "execute_result"
    }
   ],
   "source": [
    "def addOne(nums):\n",
    "    s=\"\"\n",
    "    for i in digits:\n",
    "        s+=str(i)\n",
    "    res=str(int(s)+1)\n",
    "    return [int(res[i]) for i in range(len(res))]\n",
    "\n",
    "nums=[9]\n",
    "addOne(nums)"
   ]
  },
  {
   "cell_type": "code",
   "execution_count": 33,
   "id": "f9d621e6",
   "metadata": {},
   "outputs": [
    {
     "name": "stdout",
     "output_type": "stream",
     "text": [
      "[1, 2, 3, 4, 5, 6]\n"
     ]
    }
   ],
   "source": [
    "def merge(nums1, m, nums2, n):\n",
    "    i = m - 1\n",
    "    j = n - 1\n",
    "    k = m + n - 1\n",
    "    while j >= 0:\n",
    "        if i >= 0 and nums1[i] > nums2[j]:\n",
    "            nums1[k] = nums1[i]\n",
    "            k -= 1\n",
    "            i -= 1\n",
    "        else:\n",
    "            nums1[k] = nums2[j]\n",
    "            k -= 1\n",
    "            j -= 1\n",
    "    return nums1\n",
    "\n",
    "nums1=[1,2,3,0,0,0]\n",
    "nums2=[4,5,6]\n",
    "m=3\n",
    "n=3\n",
    "print(merge(nums1,m,nums2,n))"
   ]
  },
  {
   "cell_type": "code",
   "execution_count": 36,
   "id": "8627f272",
   "metadata": {},
   "outputs": [
    {
     "name": "stdout",
     "output_type": "stream",
     "text": [
      "True\n"
     ]
    }
   ],
   "source": [
    "def duplicate(nums):\n",
    "        hashmap = set()\n",
    "        for i in nums:\n",
    "            if i in hashmap:\n",
    "                return True\n",
    "            else:\n",
    "                hashmap.add(i)\n",
    "                \n",
    "nums=[1,2,3,1]\n",
    "print(duplicate(nums))"
   ]
  },
  {
   "cell_type": "code",
   "execution_count": 2,
   "id": "89dcb600",
   "metadata": {},
   "outputs": [
    {
     "name": "stdout",
     "output_type": "stream",
     "text": [
      "[1, 3, 12, 0, 0]\n"
     ]
    }
   ],
   "source": [
    "def moveZeroes(nums,n):\n",
    "    count=0\n",
    "    for i in range(n):\n",
    "        if nums[i]!=0:\n",
    "            nums[count]=nums[i]\n",
    "            count+=1\n",
    "    while count<n:\n",
    "        nums[count]=0\n",
    "        count+=1\n",
    "nums=[0,1,0,3,12]\n",
    "n=len(nums)\n",
    "moveZeroes(nums,n)\n",
    "print(nums)"
   ]
  },
  {
   "cell_type": "code",
   "execution_count": 5,
   "id": "2707ecc8",
   "metadata": {},
   "outputs": [
    {
     "name": "stdout",
     "output_type": "stream",
     "text": [
      "[2, 3]\n"
     ]
    }
   ],
   "source": [
    "from collections import Counter\n",
    "def missing(nums):\n",
    "    c=Counter(nums)\n",
    "    l=[0,0]\n",
    "    for i in range(1,len(nums)+1):\n",
    "        if c[i]==2:\n",
    "            l[0]=i\n",
    "        if c[i]==0:\n",
    "            l[1]=i\n",
    "    return l\n",
    "\n",
    "nums=[1,2,2,4]\n",
    "print(missing(nums))"
   ]
  },
  {
   "cell_type": "code",
   "execution_count": null,
   "id": "2bf1354a",
   "metadata": {},
   "outputs": [],
   "source": []
  }
 ],
 "metadata": {
  "kernelspec": {
   "display_name": "Python 3 (ipykernel)",
   "language": "python",
   "name": "python3"
  },
  "language_info": {
   "codemirror_mode": {
    "name": "ipython",
    "version": 3
   },
   "file_extension": ".py",
   "mimetype": "text/x-python",
   "name": "python",
   "nbconvert_exporter": "python",
   "pygments_lexer": "ipython3",
   "version": "3.9.13"
  }
 },
 "nbformat": 4,
 "nbformat_minor": 5
}
